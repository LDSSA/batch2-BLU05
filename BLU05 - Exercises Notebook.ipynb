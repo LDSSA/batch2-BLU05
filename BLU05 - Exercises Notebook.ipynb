{
 "cells": [
  {
   "cell_type": "markdown",
   "metadata": {
    "deletable": false,
    "editable": false,
    "nbgrader": {
     "checksum": "c62958e31c7df19dab545e572750264b",
     "grade": false,
     "grade_id": "cell-1b6b75485105e36c",
     "locked": true,
     "schema_version": 1,
     "solution": false
    }
   },
   "source": [
    "# BLU05 - Exercises Notebook"
   ]
  },
  {
   "cell_type": "code",
   "execution_count": null,
   "metadata": {
    "deletable": false,
    "editable": false,
    "nbgrader": {
     "checksum": "b630a52e13fb7f2dcbb0593c31905cdd",
     "grade": false,
     "grade_id": "cell-ee9dcdd4eb1308b9",
     "locked": true,
     "schema_version": 1,
     "solution": false
    }
   },
   "outputs": [],
   "source": [
    "import hashlib # for grading purposes\n",
    "import math\n",
    "import numpy as np\n",
    "import pandas as pd\n",
    "import requests\n",
    "import sqlalchemy\n",
    "\n",
    "from bs4 import BeautifulSoup"
   ]
  },
  {
   "cell_type": "markdown",
   "metadata": {
    "deletable": false,
    "editable": false,
    "nbgrader": {
     "checksum": "4891355952d159ed4a363ee798d5e504",
     "grade": false,
     "grade_id": "cell-cc67f3fcb340fbcd",
     "locked": true,
     "schema_version": 1,
     "solution": false
    }
   },
   "source": [
    "## Part A - SQL exercises\n",
    "\n",
    "### Querying the MoviesDb with a SQL client\n",
    "\n",
    "Open your favorite SQL client and connect to the MoviesDb.\n",
    "The connection settings are the following.\n",
    "\n",
    "* host: db.lisbondatascience.org\n",
    "* port: 5432\n",
    "* user: ldsa_student\n",
    "* database: datawrangling\n",
    "* schema: blu05\n",
    "* password: XXX (shared through slack)\n",
    "\n",
    "This is the database that we used in the learning notebooks. Just to help you remember, these are the tables in the database.\n",
    "\n",
    "1. movie: has information about the movies in the database\n",
    "2. actor: has information about the actors in the database\n",
    "3. genre: has information about the movie genres in the database\n",
    "4. oscar: has a list of movies that won an oscar, per year\n",
    "5. movie_actor: has the relationships between movies and actors (as in, which actors appeared in which movies and characters did the actors play)\n",
    "6. movie_genre: has the relationships between movies and genres (as in, which genres does each movie belong to)\n",
    "\n",
    "You can preview these tables in the SQL client.\n",
    "\n",
    "### Q1. Select the original title of the movie with imdb_id tt0114814 \n",
    "\n",
    "Write a query that selects the original title of the movie with imbdb_id tt0114814, and run it in the SQL client.\n",
    "\n",
    "Then, assign the result to variable tt0114814_original_title (just copy and paste the value)."
   ]
  },
  {
   "cell_type": "code",
   "execution_count": null,
   "metadata": {
    "deletable": false,
    "nbgrader": {
     "checksum": "b2e18cd1a49d3a4105c8da53b123be2b",
     "grade": false,
     "grade_id": "cell-03b22b93be7b587e",
     "locked": false,
     "schema_version": 1,
     "solution": true
    }
   },
   "outputs": [],
   "source": [
    "# YOUR CODE HERE\n",
    "raise NotImplementedError()"
   ]
  },
  {
   "cell_type": "code",
   "execution_count": null,
   "metadata": {
    "deletable": false,
    "editable": false,
    "nbgrader": {
     "checksum": "f65fc6cc403987958931c2bf2c26dec4",
     "grade": true,
     "grade_id": "cell-92e8f002ca863db1",
     "locked": true,
     "points": 1,
     "schema_version": 1,
     "solution": false
    }
   },
   "outputs": [],
   "source": [
    "expected_hash = '5b747e07ed1745562a23e71038c445a3fd55c917c55b35cc8294b93735f12698'\n",
    "assert hashlib.sha256(tt0114814_original_title.encode()).hexdigest() == expected_hash"
   ]
  },
  {
   "cell_type": "markdown",
   "metadata": {},
   "source": [
    "### Q2. Count the number of movies released before the 1st of January, 1930\n",
    "\n",
    "Write a query that counts the number of movies released before the 1st of January, 1930, and run it in the SQL client.\n",
    "\n",
    "Then, assign the result to variable count_movies_before_1930 (just copy and paste the value)."
   ]
  },
  {
   "cell_type": "code",
   "execution_count": null,
   "metadata": {
    "deletable": false,
    "nbgrader": {
     "checksum": "f7a4e021fe81b32535104addb182b3f6",
     "grade": false,
     "grade_id": "cell-be58fad2af1735bd",
     "locked": false,
     "schema_version": 1,
     "solution": true
    }
   },
   "outputs": [],
   "source": [
    "# YOUR CODE HERE\n",
    "raise NotImplementedError()"
   ]
  },
  {
   "cell_type": "code",
   "execution_count": null,
   "metadata": {
    "deletable": false,
    "editable": false,
    "nbgrader": {
     "checksum": "f47fe96ba6bbc682e87ba9c73bd30238",
     "grade": true,
     "grade_id": "cell-1f2f87262d1b5fc4",
     "locked": true,
     "points": 1,
     "schema_version": 1,
     "solution": false
    }
   },
   "outputs": [],
   "source": [
    "expected_hash = '3daebbc6dfd81355f1cc9d9565ab4a4a53bda47f6117529409acc7acb55556bb'\n",
    "assert hashlib.sha256(str(count_movies_before_1930).encode()).hexdigest() == expected_hash"
   ]
  },
  {
   "cell_type": "markdown",
   "metadata": {
    "deletable": false,
    "editable": false,
    "nbgrader": {
     "checksum": "ef42e22479f928ae37523c858c8dbb27",
     "grade": false,
     "grade_id": "cell-010c418f565b3108",
     "locked": true,
     "schema_version": 1,
     "solution": false
    }
   },
   "source": [
    "### Q3. Count the number of movies with a character named Maria\n",
    "\n",
    "Write a query that counts the number of movies that have a caracter whose name is \"Maria\" or \"Maria *something else*\", and run it in the SQL client.\n",
    "\n",
    "Then, assign the result to variable count_movies_with_maria (just copy and paste the value).\n",
    "\n",
    "Hints: check the [LIKE](https://www.postgresql.org/docs/current/static/functions-matching.html#FUNCTIONS-LIKE) and [DISTINCT](https://www.postgresql.org/docs/current/static/sql-select.html#SQL-DISTINCT) keywords for this exercise."
   ]
  },
  {
   "cell_type": "code",
   "execution_count": null,
   "metadata": {
    "deletable": false,
    "nbgrader": {
     "checksum": "41bbc1086b4aa930e918fdf6a483be03",
     "grade": false,
     "grade_id": "cell-3a7464176782e2cb",
     "locked": false,
     "schema_version": 1,
     "solution": true
    }
   },
   "outputs": [],
   "source": [
    "# YOUR CODE HERE\n",
    "raise NotImplementedError()"
   ]
  },
  {
   "cell_type": "code",
   "execution_count": null,
   "metadata": {
    "deletable": false,
    "editable": false,
    "nbgrader": {
     "checksum": "dbb9d7415c2e03e1535c660af5980fd3",
     "grade": true,
     "grade_id": "cell-f1f24a46b0d15dc9",
     "locked": true,
     "points": 1,
     "schema_version": 1,
     "solution": false
    }
   },
   "outputs": [],
   "source": [
    "expected_hash = '793733573a1dfd14a2e889a11b2ad7b6981de29df813863b528dc1ae99416eeb'\n",
    "assert hashlib.sha256(str(count_movies_with_maria).encode()).hexdigest() == expected_hash"
   ]
  },
  {
   "cell_type": "markdown",
   "metadata": {
    "deletable": false,
    "editable": false,
    "nbgrader": {
     "checksum": "f84597d7fd792f32c2387b735b3a4a26",
     "grade": false,
     "grade_id": "cell-f1ef8aaf001e8015",
     "locked": true,
     "schema_version": 1,
     "solution": false
    }
   },
   "source": [
    "### Q4. Budget of movies with and without Oscars\n",
    "\n",
    "Write a query that selects the average budget spent in movies that won an oscar, only considering the movies where the budget is higher than 0. The return value should be the number of dollars in millions, rounded to the nearest integer. Run the query in the SQL client.\n",
    "\n",
    "Assign the result to variable budget_with_oscars (just copy and paste the values).\n",
    "\n",
    "Then, write a query that selects the average budget spent in movies that didn't win an oscar, only considering the movies where the budget is higher than 0. The return value should be the number of dollars in millions, rounded to the nearest integer. Run the query in the SQL client.\n",
    "\n",
    "Assign the result to variable budget_without_oscars (just copy and paste the values)."
   ]
  },
  {
   "cell_type": "code",
   "execution_count": null,
   "metadata": {
    "deletable": false,
    "nbgrader": {
     "checksum": "fa90f6705345353c7196d605d0384d94",
     "grade": false,
     "grade_id": "cell-645c2fbe3b16c880",
     "locked": false,
     "schema_version": 1,
     "solution": true
    }
   },
   "outputs": [],
   "source": [
    "# YOUR CODE HERE\n",
    "raise NotImplementedError()"
   ]
  },
  {
   "cell_type": "code",
   "execution_count": null,
   "metadata": {
    "deletable": false,
    "editable": false,
    "nbgrader": {
     "checksum": "8510a45cc16dd51280f22594f91f69fe",
     "grade": true,
     "grade_id": "cell-41d99aabd53c87e7",
     "locked": true,
     "points": 1,
     "schema_version": 1,
     "solution": false
    }
   },
   "outputs": [],
   "source": [
    "expected_hash = '4523540f1504cd17100c4835e85b7eefd49911580f8efff0599a8f283be6b9e3'\n",
    "assert hashlib.sha256(str(budget_with_oscars).encode()).hexdigest() == expected_hash\n",
    "\n",
    "expected_hash_a = '785f3ec7eb32f30b90cd0fcf3657d388b5ff4297f2f9716ff66e9b69c05ddd09'\n",
    "expected_hash_b = '6f4b6612125fb3a0daecd2799dfd6c9c299424fd920f9b308110a2c1fbd8f443'\n",
    "\n",
    "assert hashlib.sha256(str(budget_without_oscars).encode()).hexdigest() in [expected_hash_a, expected_hash_b]"
   ]
  },
  {
   "cell_type": "markdown",
   "metadata": {
    "deletable": false,
    "editable": false,
    "nbgrader": {
     "checksum": "2993b0f3040e694dd3bcf323efb382ce",
     "grade": false,
     "grade_id": "cell-24c0142cc3082a0c",
     "locked": true,
     "schema_version": 1,
     "solution": false
    }
   },
   "source": [
    "### Q5. Which is the actor that has appeared the most in Science Fiction movies\n",
    "\n",
    "What actor appeared the most in movies with the genre \"Western\"? Run a query in the SQL client to find out the actor's name and assign it to variable most_western_actor.\n",
    "\n",
    "Also find out the number of times that the actor appeared Western movies and assign that number to variable most_western_actor_movies_count \n",
    "\n",
    "In both the cases, just copy and paste the values into the variables."
   ]
  },
  {
   "cell_type": "code",
   "execution_count": null,
   "metadata": {
    "deletable": false,
    "nbgrader": {
     "checksum": "aa1c524041835f1b694dbbd1c8d26b69",
     "grade": false,
     "grade_id": "cell-c5ef88aa51ea99f6",
     "locked": false,
     "schema_version": 1,
     "solution": true
    }
   },
   "outputs": [],
   "source": [
    "# YOUR CODE HERE\n",
    "raise NotImplementedError()"
   ]
  },
  {
   "cell_type": "code",
   "execution_count": null,
   "metadata": {
    "deletable": false,
    "editable": false,
    "nbgrader": {
     "checksum": "c55cb1a9422425146cd25cb588a70b1e",
     "grade": true,
     "grade_id": "cell-f0f9a337b81de14a",
     "locked": true,
     "points": 1,
     "schema_version": 1,
     "solution": false
    }
   },
   "outputs": [],
   "source": [
    "expected_hash = '7ddf1ea571c83c4b4839bfef147be4ba603d1d43ec2b02addd7695b12928337a'\n",
    "assert hashlib.sha256(most_western_actor.encode()).hexdigest() == expected_hash\n",
    "\n",
    "expected_hash = 'c75cb66ae28d8ebc6eded002c28a8ba0d06d3a78c6b5cbf9b2ade051f0775ac4';\n",
    "assert hashlib.sha256(str(most_western_actor_movies_count).encode()).hexdigest() == expected_hash"
   ]
  },
  {
   "cell_type": "markdown",
   "metadata": {
    "deletable": false,
    "editable": false,
    "nbgrader": {
     "checksum": "7f56614ad861f11f490ee580e7427235",
     "grade": false,
     "grade_id": "cell-3a1dca85f9b02ebf",
     "locked": true,
     "schema_version": 1,
     "solution": false
    }
   },
   "source": [
    "### Querying the MoviesDb with pandas\n",
    "\n",
    "In these exercises, the goal is to query the MoviesDb using pandas.\n",
    "\n",
    "### Q6. Select the names of the genres without oscars\n",
    "\n",
    "The connection settings to use in this exercise are the same ones as in the previous exercises.\n",
    "\n",
    "Write a query that selects the names of the genres that never received an oscar. The result should have a field named \"genre\", that should be sorted alphabetically.\n",
    "\n",
    "Then, use pandas to read this query into a DataFrame called df6 with a single column named \"genre\"."
   ]
  },
  {
   "cell_type": "code",
   "execution_count": null,
   "metadata": {
    "deletable": false,
    "nbgrader": {
     "checksum": "09da602fef71c1338e55a6622a1ec0cc",
     "grade": false,
     "grade_id": "cell-f2cd873c0ac14ca0",
     "locked": false,
     "schema_version": 1,
     "solution": true
    }
   },
   "outputs": [],
   "source": [
    "# Create an engine that allows to to connect to the MoviesDb PostgreSQL database\n",
    "# engine = sqlalchemy.create_engine(...)\n",
    "# YOUR CODE HERE\n",
    "raise NotImplementedError()\n",
    "\n",
    "\n",
    "# Write the query as specified in the question\n",
    "# query = ...\n",
    "# YOUR CODE HERE\n",
    "raise NotImplementedError()\n",
    "\n",
    "# Use pandas read_sql_query function to read the query result into a DataFrame\n",
    "# df6 = pd.read_sql_query(...)\n",
    "# YOUR CODE HERE\n",
    "raise NotImplementedError()"
   ]
  },
  {
   "cell_type": "code",
   "execution_count": null,
   "metadata": {
    "deletable": false,
    "editable": false,
    "nbgrader": {
     "checksum": "7261e733de8f816814e6ab5cc63e4ce7",
     "grade": true,
     "grade_id": "cell-28986c4b783959be",
     "locked": true,
     "points": 1,
     "schema_version": 1,
     "solution": false
    }
   },
   "outputs": [],
   "source": [
    "assert type(engine) == sqlalchemy.engine.base.Engine\n",
    "assert len(df6) == 5\n",
    "assert len(df6.columns) == 1\n",
    "assert df6.columns.tolist()[0] == 'genre'\n",
    "\n",
    "expected_hash = '271a22f75d73e13fa558d991442ecde8d75a34a0b9f6216d44b116f8612c82dc'\n",
    "assert hashlib.sha256(df6.iloc[2].genre.encode()).hexdigest() == expected_hash\n",
    "\n",
    "expected_hash = '28b7b3139218904b246717b0035295e0383450dd57296187b48fe38a7e9ff0ec'\n",
    "assert hashlib.sha256(df6.iloc[4].genre.encode()).hexdigest() == expected_hash"
   ]
  },
  {
   "cell_type": "markdown",
   "metadata": {
    "deletable": false,
    "editable": false,
    "nbgrader": {
     "checksum": "89f2af3a50d821526e3a4924a6fe687d",
     "grade": false,
     "grade_id": "cell-06b122f1f318a355",
     "locked": true,
     "schema_version": 1,
     "solution": false
    }
   },
   "source": [
    "### Q7. Select foreign movies with the highest budgets\n",
    "\n",
    "In this exercise, we want to query a local SQLite database.\n",
    "In order to do this, connect to the the_movies.db database, as was done in the learning notebooks.\n",
    "\n",
    "Hint: the database file we're using is the same as was used in the Learning Notebooks; the file is in the same directory as this Exercises Notebook.\n",
    "\n",
    "Write a query that selects the imdb_id, original_title, budget and original_language of movies with an original language other than english.\n",
    "Then, sort the results from the highest to the lowest budget and return only the first 6 rows.\n",
    "\n",
    "Use pandas to read this query into a DataFrame called df7 with four columns: imdb_id, original_title, budget and original_language."
   ]
  },
  {
   "cell_type": "code",
   "execution_count": null,
   "metadata": {
    "deletable": false,
    "nbgrader": {
     "checksum": "4416013890dfe8c78441ad30f85be4a8",
     "grade": false,
     "grade_id": "cell-8d45d74ae0d84110",
     "locked": false,
     "schema_version": 1,
     "solution": true
    }
   },
   "outputs": [],
   "source": [
    "# Create an engine that allows to to connect to the the_movies.db SQLite database\n",
    "# engine = sqlalchemy.create_engine(...)\n",
    "# YOUR CODE HERE\n",
    "raise NotImplementedError()\n",
    "\n",
    "\n",
    "# Write the query as specified in the question\n",
    "# query = ...\n",
    "# YOUR CODE HERE\n",
    "raise NotImplementedError()\n",
    "\n",
    "# Use pandas read_sql_query function to read the query result into a DataFrame\n",
    "# df6 = pd.read_sql_query(...)\n",
    "# YOUR CODE HERE\n",
    "raise NotImplementedError()"
   ]
  },
  {
   "cell_type": "code",
   "execution_count": null,
   "metadata": {
    "deletable": false,
    "editable": false,
    "nbgrader": {
     "checksum": "a3825f8c7dc3298554be4f5c1a08da42",
     "grade": true,
     "grade_id": "cell-19abd085a003ab6f",
     "locked": true,
     "points": 1,
     "schema_version": 1,
     "solution": false
    }
   },
   "outputs": [],
   "source": [
    "assert type(engine) == sqlalchemy.engine.base.Engine\n",
    "assert len(df7) == 6\n",
    "assert len(df7.columns) == 4\n",
    "assert df7.columns.tolist() == ['imdb_id', 'original_title', 'budget', 'original_language']\n",
    "\n",
    "expected_hash = '2d78c1c57c0cb7aa2098901eb9f55a291ac54206a375d18ce8107fc8f765a4c7'\n",
    "assert hashlib.sha256(df7.iloc[0].imdb_id.encode()).hexdigest() == expected_hash\n",
    "\n",
    "expected_hash = '6085aab10f651514a3a04a504b79b1720478630951bd83238f72a36b15a5aa51'\n",
    "assert hashlib.sha256(df7.iloc[2].imdb_id.encode()).hexdigest() == expected_hash\n",
    "\n",
    "expected_hash = 'c27f97e4898ee23badcda22a632e4b3ef7d22593ebc7a64e46ac37520843a255'\n",
    "assert hashlib.sha256(df7.iloc[4].imdb_id.encode()).hexdigest() == expected_hash"
   ]
  },
  {
   "cell_type": "markdown",
   "metadata": {
    "deletable": false,
    "editable": false,
    "nbgrader": {
     "checksum": "ba75d83ca7fe68023beb39008071803b",
     "grade": false,
     "grade_id": "cell-a63384ff91b49abf",
     "locked": true,
     "schema_version": 1,
     "solution": false
    }
   },
   "source": [
    "## Part B - Public APIs\n",
    "\n",
    "In this exercises, the goal is to get data from a public API. We'll use the [Rick and Morty API](https://rickandmortyapi.com/).\n",
    "\n",
    "In order to complete the exercises, you'll have to consult the API's [documentation](https://rickandmortyapi.com/documentation).\n",
    "\n",
    "<br>\n",
    "\n",
    "<img src=\"media/rick_and_morty.png\" width=600>\n",
    "\n",
    "<br>\n",
    "\n",
    "### Q8. Get location 34 from the API\n",
    "\n",
    "Read the [documentation](https://rickandmortyapi.com/documentation/#get-a-single-location) of the API in order to find out how to get the location with id 34.\n",
    "In order to get this data, you'll need to do an HTTP GET request.\n",
    "\n",
    "The result should be a JSON object (which is the same as a dictionary in Python), and assigned to variable location_34."
   ]
  },
  {
   "cell_type": "code",
   "execution_count": null,
   "metadata": {
    "deletable": false,
    "nbgrader": {
     "checksum": "0cb6c683a3c6dcb4944e6275e6072573",
     "grade": false,
     "grade_id": "cell-3e7084c9bf8398d0",
     "locked": false,
     "schema_version": 1,
     "solution": true
    }
   },
   "outputs": [],
   "source": [
    "# Do an HTTP GET request to the Rick and Morty API to get location 34 as a JSON object\n",
    "# YOUR CODE HERE\n",
    "raise NotImplementedError()"
   ]
  },
  {
   "cell_type": "code",
   "execution_count": null,
   "metadata": {
    "deletable": false,
    "editable": false,
    "nbgrader": {
     "checksum": "64a16a883922d4e11289ee7652df8282",
     "grade": true,
     "grade_id": "cell-50d051ce26525944",
     "locked": true,
     "points": 3,
     "schema_version": 1,
     "solution": false
    }
   },
   "outputs": [],
   "source": [
    "assert type(location_34) == dict\n",
    "assert set(location_34.keys()) == {'created', 'dimension', 'id', 'name', 'residents', 'type', 'url'}\n",
    "assert location_34['name'] == \"Earth (Evil Rick's Target Dimension)\"\n",
    "assert location_34['type'] == 'Planet'"
   ]
  },
  {
   "cell_type": "markdown",
   "metadata": {
    "deletable": false,
    "editable": false,
    "nbgrader": {
     "checksum": "dc19783895bde800b31328f903f63ec2",
     "grade": false,
     "grade_id": "cell-90ff2db8962c1d5b",
     "locked": true,
     "schema_version": 1,
     "solution": false
    }
   },
   "source": [
    "### Q9. Filter characters from the API\n",
    "\n",
    "Read the documentation of the API in order to find out how to filter characters using a GET request with query parameters.\n",
    "\n",
    "Then, find the characters with the following properties:\n",
    "* name: rick\n",
    "* status: alive\n",
    "* type: Pickle\n",
    "\n",
    "Return only the first (and only) result.\n",
    "\n",
    "The result should be a JSON object (which is the same as a dictionary in Python), that corresponds to the character we're looking for, and assigned to variable mistery_character."
   ]
  },
  {
   "cell_type": "code",
   "execution_count": null,
   "metadata": {
    "deletable": false,
    "nbgrader": {
     "checksum": "40bf16facab78b0961ae63c5e6b79ed5",
     "grade": false,
     "grade_id": "cell-3c68a66b3b6b56d0",
     "locked": false,
     "schema_version": 1,
     "solution": true
    }
   },
   "outputs": [],
   "source": [
    "# Do an HTTP GET request to filter characters according to the criteria above\n",
    "# YOUR CODE HERE\n",
    "raise NotImplementedError()"
   ]
  },
  {
   "cell_type": "code",
   "execution_count": null,
   "metadata": {
    "deletable": false,
    "editable": false,
    "nbgrader": {
     "checksum": "2f42e808bcb049bb0a1d67f0627df62b",
     "grade": true,
     "grade_id": "cell-15c07449c3238657",
     "locked": true,
     "points": 3,
     "schema_version": 1,
     "solution": false
    }
   },
   "outputs": [],
   "source": [
    "assert type(mistery_character) == dict\n",
    "assert set(mistery_character.keys()) == {'created', 'episode', 'gender', 'id', 'image', 'location', \n",
    "                                         'name', 'origin', 'species', 'status', 'type', 'url'}\n",
    "assert mistery_character['status'] == 'Alive'\n",
    "assert mistery_character['species'] == 'unknown'\n",
    "assert mistery_character['type'] == 'Pickle'\n",
    "\n",
    "expected_hash = '266fb5572dcafb40ba7dae8c4c28f5915221f88e93fa609bcd77b3d76dcd29bc'\n",
    "assert hashlib.sha256(mistery_character['name'].encode()).hexdigest() == expected_hash"
   ]
  },
  {
   "cell_type": "markdown",
   "metadata": {
    "deletable": false,
    "editable": false,
    "nbgrader": {
     "checksum": "298ec4085a4f84e2836c9dc74bf02b3b",
     "grade": false,
     "grade_id": "cell-91ec6c1c0bc1f4f5",
     "locked": true,
     "schema_version": 1,
     "solution": false
    }
   },
   "source": [
    "## Part C - Web scraping\n",
    "\n",
    "In this exercise, we're going to use web scraping to get data about Rick and Morty's episodes ratings for the first season.\n",
    "We're going to read the data from IMDb, in particular from [this web page](https://www.imdb.com/title/tt2861424/episodes?season=1).\n",
    "\n",
    "### Q10. Scrape Rick and Morty's ratings from IMDb\n",
    "\n",
    "Assign a list with the ratings values to variable ratings_list.\n",
    "In the list, each rating should be a float."
   ]
  },
  {
   "cell_type": "code",
   "execution_count": null,
   "metadata": {
    "deletable": false,
    "nbgrader": {
     "checksum": "b36b02b4fb007e528d5f0e9f4e20624f",
     "grade": false,
     "grade_id": "cell-bd8d7b19855c5b9f",
     "locked": false,
     "schema_version": 1,
     "solution": true
    }
   },
   "outputs": [],
   "source": [
    "# Assign the URL of the page to be scraped to variable url\n",
    "# url = ...\n",
    "# YOUR CODE HERE\n",
    "raise NotImplementedError()\n",
    "\n",
    "# Do a GET request to get the page content, using the url we've just defined\n",
    "# response = ...\n",
    "# YOUR CODE HERE\n",
    "raise NotImplementedError()\n",
    "\n",
    "# Instanciate a soup object using the response of the GET request\n",
    "# YOUR CODE HERE\n",
    "raise NotImplementedError()\n",
    "    \n",
    "# Now it's the tricky part!\n",
    "# Parse the soup in order to retrieve the ratings.\n",
    "# In the end, store the ratings in a list and assign it to variable ratings_list.\n",
    "# Make sure that all the ratings in the list are floats!\n",
    "# YOUR CODE HERE\n",
    "raise NotImplementedError()"
   ]
  },
  {
   "cell_type": "code",
   "execution_count": null,
   "metadata": {
    "deletable": false,
    "editable": false,
    "nbgrader": {
     "checksum": "6e4bf36fa2ec264a5f870152fd7d317f",
     "grade": true,
     "grade_id": "cell-335a90721257cd1a",
     "locked": true,
     "points": 6,
     "schema_version": 1,
     "solution": false
    }
   },
   "outputs": [],
   "source": [
    "assert type(ratings_list) == list\n",
    "assert len(ratings_list) == 11\n",
    "\n",
    "assert type(ratings_list[0]) == float\n",
    "assert ratings_list[0] == 8.0\n",
    "\n",
    "assert math.isclose(8.5, np.mean(ratings_list), rel_tol=1e-2)"
   ]
  },
  {
   "cell_type": "markdown",
   "metadata": {
    "deletable": false,
    "editable": false,
    "nbgrader": {
     "checksum": "f5869f1715016de83dff8895d78f4470",
     "grade": false,
     "grade_id": "cell-ff83f6395e265feb",
     "locked": true,
     "schema_version": 1,
     "solution": false
    }
   },
   "source": [
    "### Q11. Where did you find the ratings?\n",
    "\n",
    "When you were scraping the Rick and Morty's ratings, you found out that the information you needed was in an HTML element, which looks like this:\n",
    "\n",
    "```\n",
    "<tagname class=classname>Ratings content goes here</tagname>\n",
    "```\n",
    "\n",
    "Regarding the HTML element where you found the rating's value:\n",
    "\n",
    "* Assign the tagname to variable ratings_tagname\n",
    "* Assign the classname to variable ratings_classname\n",
    "\n",
    "In both cases you don't need to code, just copy and paste the values into the two variables."
   ]
  },
  {
   "cell_type": "code",
   "execution_count": null,
   "metadata": {
    "deletable": false,
    "nbgrader": {
     "checksum": "35147cb9b0dc286f1adbbc99ecb48a82",
     "grade": false,
     "grade_id": "cell-88e2603722dac1e3",
     "locked": false,
     "schema_version": 1,
     "solution": true
    }
   },
   "outputs": [],
   "source": [
    "# ratings_tagname = ...\n",
    "# ratings_classname = ...\n",
    "\n",
    "# YOUR CODE HERE\n",
    "raise NotImplementedError()"
   ]
  },
  {
   "cell_type": "code",
   "execution_count": null,
   "metadata": {
    "deletable": false,
    "editable": false,
    "nbgrader": {
     "checksum": "348821a3ae07594264293c4dca162916",
     "grade": true,
     "grade_id": "cell-f78d31cd4e4779eb",
     "locked": true,
     "points": 1,
     "schema_version": 1,
     "solution": false
    }
   },
   "outputs": [],
   "source": [
    "expected_hash = '37a0025aa1f2e29f9f88f59f961e44a320849dfc79a85ef3c02654d50d2e7480'\n",
    "assert hashlib.sha256(ratings_tagname.encode()).hexdigest() == expected_hash\n",
    "\n",
    "expected_hash = '6a9b4f4e5f862a625f86aa2c0ad343cb5ff23da130b59b0914f36a5af1fbee92'\n",
    "assert hashlib.sha256(ratings_classname.encode()).hexdigest() == expected_hash"
   ]
  },
  {
   "cell_type": "code",
   "execution_count": null,
   "metadata": {},
   "outputs": [],
   "source": []
  }
 ],
 "metadata": {
  "kernelspec": {
   "display_name": "Python 3",
   "language": "python",
   "name": "python3"
  },
  "language_info": {
   "codemirror_mode": {
    "name": "ipython",
    "version": 3
   },
   "file_extension": ".py",
   "mimetype": "text/x-python",
   "name": "python",
   "nbconvert_exporter": "python",
   "pygments_lexer": "ipython3",
   "version": "3.6.5"
  }
 },
 "nbformat": 4,
 "nbformat_minor": 2
}
